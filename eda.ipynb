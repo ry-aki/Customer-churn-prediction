{
 "cells": [
  {
   "cell_type": "markdown",
   "id": "c221c470",
   "metadata": {},
   "source": [
    "## Problem Statement\n",
    "The aim is to predict the customer churn rate based on historical churn data"
   ]
  },
  {
   "cell_type": "markdown",
   "id": "f19607a1",
   "metadata": {},
   "source": [
    "## Data\n",
    "Data is made available in csv format with 10000 entries and __ columns"
   ]
  },
  {
   "cell_type": "code",
   "execution_count": null,
   "id": "40ea2d35",
   "metadata": {},
   "outputs": [],
   "source": [
    "import numpy as np\n",
    "import pandas as pd"
   ]
  }
 ],
 "metadata": {
  "kernelspec": {
   "display_name": "Python 3",
   "language": "python",
   "name": "python3"
  },
  "language_info": {
   "codemirror_mode": {
    "name": "ipython",
    "version": 3
   },
   "file_extension": ".py",
   "mimetype": "text/x-python",
   "name": "python",
   "nbconvert_exporter": "python",
   "pygments_lexer": "ipython3",
   "version": "3.8.8"
  }
 },
 "nbformat": 4,
 "nbformat_minor": 5
}
